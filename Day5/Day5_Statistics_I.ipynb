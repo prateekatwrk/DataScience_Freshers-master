{
 "cells": [
  {
   "cell_type": "markdown",
   "metadata": {},
   "source": [
    "<center><h1>Statistic</h1></center>"
   ]
  },
  {
   "cell_type": "markdown",
   "metadata": {},
   "source": [
    "<img src=\"https://fiverr-res.cloudinary.com/images/t_main1,q_auto,f_auto/gigs/105100081/original/b508ab6dd88851cf41a84b367f661443a02aa202/provide-you-best-solution-about-stat-math-and-computer.jpg\"/>"
   ]
  },
  {
   "cell_type": "code",
   "execution_count": 3,
   "metadata": {},
   "outputs": [],
   "source": [
    "#The OS module in Python provides a way of using operating system dependent functionality.\n",
    "import os\n",
    "import math\n",
    "import random\n",
    "import numpy as np\n",
    "import pandas as pd\n",
    "#SciPy contains varieties of sub packages which help to solve the most common issue related to Scientific Computation.\n",
    "import scipy.stats as stats\n",
    "import matplotlib.pyplot as plt"
   ]
  },
  {
   "cell_type": "code",
   "execution_count": 4,
   "metadata": {},
   "outputs": [],
   "source": [
    "os.chdir(r\"C:\\Users\\DELL\\Downloads\")"
   ]
  },
  {
   "cell_type": "code",
   "execution_count": 5,
   "metadata": {
    "scrolled": true
   },
   "outputs": [
    {
     "name": "stdout",
     "output_type": "stream",
     "text": [
      "<class 'pandas.core.frame.DataFrame'>\n",
      "RangeIndex: 614 entries, 0 to 613\n",
      "Data columns (total 13 columns):\n",
      "Loan_ID              614 non-null object\n",
      "Gender               601 non-null object\n",
      "Married              611 non-null object\n",
      "Dependents           599 non-null object\n",
      "Education            614 non-null object\n",
      "Self_Employed        582 non-null object\n",
      "ApplicantIncome      614 non-null int64\n",
      "CoapplicantIncome    614 non-null float64\n",
      "LoanAmount           592 non-null float64\n",
      "Loan_Amount_Term     600 non-null float64\n",
      "Credit_History       564 non-null float64\n",
      "Property_Area        614 non-null object\n",
      "Loan_Status          614 non-null object\n",
      "dtypes: float64(4), int64(1), object(8)\n",
      "memory usage: 62.4+ KB\n"
     ]
    }
   ],
   "source": [
    "data = pd.read_csv(\"LoanPredictionTraining.csv\")\n",
    "data.info()"
   ]
  },
  {
   "cell_type": "markdown",
   "metadata": {},
   "source": [
    "### Measure of Central tendency"
   ]
  },
  {
   "cell_type": "code",
   "execution_count": 9,
   "metadata": {},
   "outputs": [
    {
     "name": "stdout",
     "output_type": "stream",
     "text": [
      "Mean:  5403.459283387622 \n",
      "Median:  3812.5 \n",
      "Mode:  2500\n"
     ]
    }
   ],
   "source": [
    "income = data['ApplicantIncome']\n",
    "\n",
    "mean=income.mean()\n",
    "median=income.median()\n",
    "mode=income.mode()\n",
    "\n",
    "print('Mean: ',mean,'\\nMedian: ',median,'\\nMode: ',mode[0])"
   ]
  },
  {
   "cell_type": "code",
   "execution_count": 10,
   "metadata": {},
   "outputs": [
    {
     "data": {
      "text/plain": [
       "0    2500\n",
       "dtype: int64"
      ]
     },
     "execution_count": 10,
     "metadata": {},
     "output_type": "execute_result"
    }
   ],
   "source": [
    "mode"
   ]
  },
  {
   "cell_type": "markdown",
   "metadata": {},
   "source": [
    "### Measure of Dispersion"
   ]
  },
  {
   "cell_type": "code",
   "execution_count": 11,
   "metadata": {},
   "outputs": [
    {
     "data": {
      "text/plain": [
       "80850"
      ]
     },
     "execution_count": 11,
     "metadata": {},
     "output_type": "execute_result"
    }
   ],
   "source": [
    "##### Range, Max, Minimum \n",
    "maxim = income.max()\n",
    "minim = income.min()\n",
    "rang = maxim - minim\n",
    "rang"
   ]
  },
  {
   "cell_type": "markdown",
   "metadata": {},
   "source": [
    "## The use of understanding the standard deviation of a set of values is in knowing how large a difference from the \"average\" (mean) is expected.\n",
    "\n",
    "**Standard deviation is a number used to tell how measurements for a group are spread out from the average (mean), or expected value. A low standard deviation means that most of the numbers are close to the average. A high standard deviation means that the numbers are more spread out.**"
   ]
  },
  {
   "cell_type": "code",
   "execution_count": 12,
   "metadata": {},
   "outputs": [
    {
     "name": "stdout",
     "output_type": "stream",
     "text": [
      "6109.041673387174\n"
     ]
    },
    {
     "data": {
      "text/plain": [
       "6109.041673387174"
      ]
     },
     "execution_count": 12,
     "metadata": {},
     "output_type": "execute_result"
    }
   ],
   "source": [
    "from math import sqrt\n",
    "# ##### Standard Deviation and Variance\n",
    "print(sqrt(income.var()))\n",
    "income.std()"
   ]
  },
  {
   "cell_type": "markdown",
   "metadata": {},
   "source": [
    "**Variance is a numerical value that describes the variability of observations from its arithmetic mean. Standard deviation is a measure of dispersion of observations within a data set.**"
   ]
  },
  {
   "cell_type": "markdown",
   "metadata": {},
   "source": [
    "## Quartiles"
   ]
  },
  {
   "cell_type": "markdown",
   "metadata": {},
   "source": [
    "https://www.mathsisfun.com/data/quartiles.html"
   ]
  },
  {
   "cell_type": "markdown",
   "metadata": {},
   "source": [
    "**Quartiles are the values that divide a list of numbers into quarters. The first quartile (Q1) is defined as the middle number between the smallest number and the median of the data set. The second quartile (Q2) is the median of the data. The third quartile (Q3) is the middle value between the median and the highest value of the data set.**"
   ]
  },
  {
   "cell_type": "code",
   "execution_count": 13,
   "metadata": {},
   "outputs": [
    {
     "name": "stdout",
     "output_type": "stream",
     "text": [
      "q1:  2877.5 \n",
      "q2:  3812.5 \n",
      "q2:  5795.0\n",
      "Interquartile Range:- 2917.5\n"
     ]
    }
   ],
   "source": [
    "##### Interquartile Range\n",
    "q1 = income.quantile(0.25)\n",
    "q2 = income.quantile(0.50)\n",
    "q3 = income.quantile(0.75)\n",
    "print('q1: ',q1,'\\nq2: ',q2,'\\nq2: ',q3)\n",
    "iqr = q3 - q1\n",
    "print('Interquartile Range:-',iqr)"
   ]
  },
  {
   "cell_type": "markdown",
   "metadata": {},
   "source": [
    "**The IQR is often seen as a better measure of spread than the range as it is not affected by outliers.**"
   ]
  },
  {
   "cell_type": "markdown",
   "metadata": {},
   "source": [
    "### Measure of Shape\n",
    "\n",
    "https://www.spcforexcel.com/knowledge/basic-statistics/are-skewness-and-kurtosis-useful-statistics"
   ]
  },
  {
   "cell_type": "code",
   "execution_count": 14,
   "metadata": {},
   "outputs": [
    {
     "name": "stdout",
     "output_type": "stream",
     "text": [
      "6.539513113994625\n"
     ]
    },
    {
     "data": {
      "text/plain": [
       "60.54067593369113"
      ]
     },
     "execution_count": 14,
     "metadata": {},
     "output_type": "execute_result"
    }
   ],
   "source": [
    "print(income.skew())\n",
    "income.kurt()"
   ]
  },
  {
   "cell_type": "code",
   "execution_count": 15,
   "metadata": {},
   "outputs": [
    {
     "data": {
      "image/png": "[encoded data removed]",
      "text/plain": [
       "<Figure size 720x360 with 1 Axes>"
      ]
     },
     "metadata": {
      "needs_background": "light"
     },
     "output_type": "display_data"
    }
   ],
   "source": [
    "import matplotlib.pyplot as plt\n",
    "\n",
    "plt.figure(figsize=(10,5))\n",
    "plt.hist(data[\"ApplicantIncome\"], bins=30, color='grey')\n",
    "plt.axvline(mean, color='red', label='Mean')\n",
    "plt.axvline(median,color='yellow',label='Median')\n",
    "plt.axvline(mode[0],color='green',label='Mode')\n",
    "plt.xlabel('LoanAmount')\n",
    "plt.ylabel('Frequency')\n",
    "plt.legend()\n",
    "plt.show()"
   ]
  },
  {
   "cell_type": "markdown",
   "metadata": {},
   "source": [
    "# Probability Distribution\n"
   ]
  },
  {
   "cell_type": "markdown",
   "metadata": {},
   "source": [
    "## Probability Distribution in Discrete and Continuous Variables "
   ]
  },
  {
   "cell_type": "markdown",
   "metadata": {},
   "source": [
    "**What are Discrete and Continuous variables?**"
   ]
  },
  {
   "cell_type": "markdown",
   "metadata": {
    "collapsed": true
   },
   "source": [
    "<center><h1>Discreate probability Distribution</h1></center>"
   ]
  },
  {
   "cell_type": "markdown",
   "metadata": {},
   "source": [
    "### Binomial probability Distribution"
   ]
  },
  {
   "cell_type": "code",
   "execution_count": 47,
   "metadata": {},
   "outputs": [],
   "source": [
    "from scipy import stats\n",
    "import scipy"
   ]
  },
  {
   "cell_type": "markdown",
   "metadata": {},
   "source": [
    "Example:-we flip a coin 10 times find the probability that 6 head are obtained.<br>\n",
    "P(x=6),n=10,P=1/2=0.5`"
   ]
  },
  {
   "cell_type": "code",
   "execution_count": 48,
   "metadata": {},
   "outputs": [
    {
     "data": {
      "text/plain": [
       "0.20507812500000022"
      ]
     },
     "execution_count": 48,
     "metadata": {},
     "output_type": "execute_result"
    }
   ],
   "source": [
    "stats.binom.pmf(6,10,0.5)"
   ]
  },
  {
   "cell_type": "markdown",
   "metadata": {},
   "source": [
    "Example-2:<br>\n",
    "we flip a coin 10 times find the probability that at most 5 head are obtained.<br>\n",
    "at most 5=P(X<=5)=P(X=0)+P(X=1)+P(X=2).....P(X=5)"
   ]
  },
  {
   "cell_type": "code",
   "execution_count": 49,
   "metadata": {},
   "outputs": [
    {
     "data": {
      "text/plain": [
       "0.6230468749999999"
      ]
     },
     "execution_count": 49,
     "metadata": {},
     "output_type": "execute_result"
    }
   ],
   "source": [
    "stats.binom.cdf(5,10,0.5)"
   ]
  },
  {
   "cell_type": "markdown",
   "metadata": {},
   "source": [
    "Example-3 we flip a coin 10 times find the probability that at least 5 head are obtained.<br>\n",
    "at least 5=P(X>=5)<br>\n",
    "P(X>=5)=1-cdf(5)=1-P(X<=4)"
   ]
  },
  {
   "cell_type": "code",
   "execution_count": 50,
   "metadata": {},
   "outputs": [
    {
     "data": {
      "text/plain": [
       "0.6230468749999999"
      ]
     },
     "execution_count": 50,
     "metadata": {},
     "output_type": "execute_result"
    }
   ],
   "source": [
    "cdf=stats.binom.cdf(4,10,0.5)\n",
    "1-cdf"
   ]
  },
  {
   "cell_type": "markdown",
   "metadata": {},
   "source": [
    "### Problem \n",
    "find the value of binomial randome variable that probability taking that or less than that is 0.7<br>\n",
    "p=0.2<br>\n",
    "n=10<br>\n",
    "NOTE:- New method PPF to used find the Inverse of CDF"
   ]
  },
  {
   "cell_type": "code",
   "execution_count": 51,
   "metadata": {},
   "outputs": [
    {
     "data": {
      "text/plain": [
       "3.0"
      ]
     },
     "execution_count": 51,
     "metadata": {},
     "output_type": "execute_result"
    }
   ],
   "source": [
    "stats.binom.ppf(0.7,10,0.2)"
   ]
  },
  {
   "cell_type": "markdown",
   "metadata": {},
   "source": [
    "### Creating Bar plot for Binomial Distribution"
   ]
  },
  {
   "cell_type": "code",
   "execution_count": 52,
   "metadata": {},
   "outputs": [
    {
     "data": {
      "image/png": "[encoded data removed]",
      "text/plain": [
       "<Figure size 432x288 with 1 Axes>"
      ]
     },
     "metadata": {
      "needs_background": "light"
     },
     "output_type": "display_data"
    }
   ],
   "source": [
    "import matplotlib.pyplot as plt\n",
    "n=12\n",
    "p=0.5\n",
    "x=scipy.linspace(0,10,11)\n",
    "pmf=scipy.stats.binom.pmf(x,n,p)\n",
    "plt.bar(x,pmf)\n",
    "plt.show()"
   ]
  },
  {
   "cell_type": "markdown",
   "metadata": {},
   "source": [
    "### Poission probability Distribution"
   ]
  },
  {
   "cell_type": "markdown",
   "metadata": {},
   "source": [
    "Example-The number of typographical errors in new editions of textbooks varies considerably from book to book. After some\n",
    "analysis it concludes that the number of errors is Poisson distributed with a mean of 1.5 per 100 pages. The instructor\n",
    "randomly selects 100 pages of a new book. What is the probability that there are no typos?\n",
    "That is, what is P(X=0) given that μ = 1.5?"
   ]
  },
  {
   "cell_type": "code",
   "execution_count": 53,
   "metadata": {},
   "outputs": [
    {
     "data": {
      "text/plain": [
       "0.22313016014842982"
      ]
     },
     "execution_count": 53,
     "metadata": {},
     "output_type": "execute_result"
    }
   ],
   "source": [
    "stats.poisson.pmf(0,1.5)"
   ]
  },
  {
   "cell_type": "markdown",
   "metadata": {},
   "source": [
    "Note:- What is the probability that number of errors is 2 Poisson distributed with a mean of 1.5 per 100 pages. "
   ]
  },
  {
   "cell_type": "code",
   "execution_count": 54,
   "metadata": {},
   "outputs": [
    {
     "data": {
      "text/plain": [
       "0.25102143016698353"
      ]
     },
     "execution_count": 54,
     "metadata": {},
     "output_type": "execute_result"
    }
   ],
   "source": [
    "stats.poisson.pmf(2,1.5)"
   ]
  },
  {
   "cell_type": "markdown",
   "metadata": {},
   "source": [
    "Note:- What is the probability that there are no typos on 200 page<br>\n",
    "100 page mean=1.5<br>\n",
    "now 200 pages so mean=3"
   ]
  },
  {
   "cell_type": "code",
   "execution_count": 55,
   "metadata": {},
   "outputs": [
    {
     "data": {
      "text/plain": [
       "0.049787068367863944"
      ]
     },
     "execution_count": 55,
     "metadata": {},
     "output_type": "execute_result"
    }
   ],
   "source": [
    "stats.poisson.pmf(0,3)"
   ]
  },
  {
   "cell_type": "markdown",
   "metadata": {},
   "source": [
    "Note:- at least 5 error on 100 page.<br>\n",
    "at least 5=P(X>=5)<br>\n",
    "P(X>=5)=1-cdf=1-P(X<=4)"
   ]
  },
  {
   "cell_type": "code",
   "execution_count": 56,
   "metadata": {},
   "outputs": [
    {
     "data": {
      "text/plain": [
       "0.01857593622214071"
      ]
     },
     "execution_count": 56,
     "metadata": {},
     "output_type": "execute_result"
    }
   ],
   "source": [
    "cdf=stats.poisson.cdf(4,1.5)\n",
    "prob=1-cdf\n",
    "prob"
   ]
  },
  {
   "cell_type": "markdown",
   "metadata": {},
   "source": [
    "➢ The probability of success is proportional to the size of the interval.<br>\n",
    "➢ Thus knowing an error rate of 1.5 typos per 100 pages, we can determine a mean value for a 400 page book as:<br>\n",
    "μ = 1.5 (4) = 6 typos/400 pages"
   ]
  },
  {
   "cell_type": "code",
   "execution_count": 57,
   "metadata": {},
   "outputs": [
    {
     "data": {
      "text/plain": [
       "0.0024787521766663585"
      ]
     },
     "execution_count": 57,
     "metadata": {},
     "output_type": "execute_result"
    }
   ],
   "source": [
    "stats.poisson.pmf(0,6)"
   ]
  },
  {
   "cell_type": "markdown",
   "metadata": {},
   "source": [
    "### Creating Bar plot for Poisson Distribution"
   ]
  },
  {
   "cell_type": "code",
   "execution_count": 58,
   "metadata": {},
   "outputs": [
    {
     "data": {
      "image/png": "[encoded data removed]",
      "text/plain": [
       "<Figure size 432x288 with 1 Axes>"
      ]
     },
     "metadata": {
      "needs_background": "light"
     },
     "output_type": "display_data"
    }
   ],
   "source": [
    "import matplotlib.pyplot as plt\n",
    "lambda_value=2.3\n",
    "mean=2.3\n",
    "x=scipy.linspace(0,10,11)\n",
    "pmf=scipy.stats.poisson.pmf(x,mean)\n",
    "plt.bar(x,pmf)\n",
    "plt.show()"
   ]
  },
  {
   "cell_type": "markdown",
   "metadata": {},
   "source": [
    "#### Question\n",
    "for the case of thin copper wire , suppose that the number of flaws follow a poisson distribution with a mean of 2.3 flaws per\n",
    "milimeter"
   ]
  },
  {
   "cell_type": "markdown",
   "metadata": {},
   "source": [
    "A. determind the probability of exact two flaws in 1 milimeter wires.<br>"
   ]
  },
  {
   "cell_type": "code",
   "execution_count": 59,
   "metadata": {},
   "outputs": [
    {
     "data": {
      "text/plain": [
       "0.2651846416468159"
      ]
     },
     "execution_count": 59,
     "metadata": {},
     "output_type": "execute_result"
    }
   ],
   "source": [
    "scipy.stats.poisson.pmf(2,2.3)"
   ]
  },
  {
   "cell_type": "markdown",
   "metadata": {},
   "source": [
    "B. determine the probability of at least one flaws in 2 milimeter of wires<br>\n",
    "lambda=2.3<br>\n",
    "2 milimeter=2*2.3=4.6<br>\n",
    "Note: at least one P(X>=1)=1-P(X<1)=1-P(X=0)<br>\n",
    "1-cdf=1-p(X=0)"
   ]
  },
  {
   "cell_type": "code",
   "execution_count": 60,
   "metadata": {},
   "outputs": [
    {
     "data": {
      "text/plain": [
       "0.9899481642553665"
      ]
     },
     "execution_count": 60,
     "metadata": {},
     "output_type": "execute_result"
    }
   ],
   "source": [
    "cdf=scipy.stats.poisson.cdf(0,4.6)\n",
    "1-cdf"
   ]
  },
  {
   "cell_type": "markdown",
   "metadata": {},
   "source": [
    "#### Example 4\n",
    "Vehicles pass through a junction on a busy road at an average rate of \\displaystyle{300}300 per hour.<br>\n",
    "\n",
    "(a)Find the probability that none passes in a given minute.<br>\n",
    "\n",
    "(b)What is the expected number passing in two minutes?<br>\n",
    "\n",
    "(c)Find the probability that this expected number actually pass through in a given two-minute period.\n",
    "\n",
    "average rate=300 in hour\n",
    "\n",
    "Mean=300/60=5\n",
    "\n"
   ]
  },
  {
   "cell_type": "code",
   "execution_count": 61,
   "metadata": {},
   "outputs": [
    {
     "data": {
      "text/plain": [
       "0.006737946999085467"
      ]
     },
     "execution_count": 61,
     "metadata": {},
     "output_type": "execute_result"
    }
   ],
   "source": [
    "# (a)Find the probability that none passes in a given minute.\n",
    "scipy.stats.poisson.pmf(0,5)"
   ]
  },
  {
   "cell_type": "code",
   "execution_count": 62,
   "metadata": {},
   "outputs": [],
   "source": [
    "# (b)What is the expected number passing in two minutes?\n",
    "# Mean=5 for o min\n",
    "# now 2 min\n",
    "# Mean*2=5*2=10"
   ]
  },
  {
   "cell_type": "code",
   "execution_count": 63,
   "metadata": {},
   "outputs": [
    {
     "data": {
      "text/plain": [
       "0.12511003572113372"
      ]
     },
     "execution_count": 63,
     "metadata": {},
     "output_type": "execute_result"
    }
   ],
   "source": [
    "# (c)Find the probability that this expected number actually pass through in a given two-minute period.\n",
    "scipy.stats.poisson.pmf(10,10)"
   ]
  },
  {
   "cell_type": "code",
   "execution_count": 64,
   "metadata": {},
   "outputs": [
    {
     "data": {
      "image/png": "[encoded data removed]",
      "text/plain": [
       "<Figure size 432x288 with 1 Axes>"
      ]
     },
     "metadata": {
      "needs_background": "light"
     },
     "output_type": "display_data"
    }
   ],
   "source": [
    "import matplotlib.pyplot as plt\n",
    "lambda_value=5\n",
    "mean=10\n",
    "x=scipy.linspace(0,20,11)\n",
    "# x=list(range(2,20,2))\n",
    "pmf=scipy.stats.poisson.pmf(x,mean)\n",
    "plt.bar(x,pmf)\n",
    "plt.show()"
   ]
  },
  {
   "cell_type": "markdown",
   "metadata": {},
   "source": [
    "#### Example 1\n",
    "The mean number of typing errors in a document is 1.5 per page.<br>\n",
    "Find the probability that on a page chosen at random there are:<br>\n",
    "(i) no mistakes,<br>\n",
    "(ii) more than 2 mistakes. "
   ]
  },
  {
   "cell_type": "code",
   "execution_count": 65,
   "metadata": {},
   "outputs": [
    {
     "data": {
      "text/plain": [
       "0.22313016014842982"
      ]
     },
     "execution_count": 65,
     "metadata": {},
     "output_type": "execute_result"
    }
   ],
   "source": [
    "# (i) no mistakes,\n",
    "scipy.stats.poisson.pmf(0,1.5)"
   ]
  },
  {
   "cell_type": "code",
   "execution_count": 66,
   "metadata": {},
   "outputs": [
    {
     "name": "stdout",
     "output_type": "stream",
     "text": [
      "CDF: 0.8088468305380582\n"
     ]
    },
    {
     "data": {
      "text/plain": [
       "0.19115316946194183"
      ]
     },
     "execution_count": 66,
     "metadata": {},
     "output_type": "execute_result"
    }
   ],
   "source": [
    "# (ii) more than 2 mistakes\n",
    "# P(x>2)=1-cfd(2)=1-P(x<=2)\n",
    "\n",
    "cdf=scipy.stats.poisson.cdf(2,1.5)\n",
    "print(\"CDF:\",cdf)\n",
    "1-cdf\n"
   ]
  },
  {
   "cell_type": "markdown",
   "metadata": {},
   "source": [
    "#### Example-2\n",
    "The number of cars passing a point on a country lane has a mean 1.8 per minute. Using the Poisson distribution,<br>\n",
    "find the probability that in any one minute there are:<br>\n",
    "(i) no cars, (ii) 1 car, (iii) 2 cars, (iv) 3 cars, (v) more than 3 cars. "
   ]
  },
  {
   "cell_type": "code",
   "execution_count": 67,
   "metadata": {},
   "outputs": [
    {
     "name": "stdout",
     "output_type": "stream",
     "text": [
      "probability for 0 cars 0.16529888822158653\n",
      "probability for exaxt 1 cars 0.2975379987988558\n",
      "probability for exaxt 2 cars 0.26778419891897026\n",
      "probability for exaxt 3 cars 0.16067051935138213\n",
      "probability for more than 3 cars 0.10870839470920546\n"
     ]
    }
   ],
   "source": [
    "# (1)\n",
    "a=scipy.stats.poisson.pmf(0,1.8)\n",
    "print(\"probability for 0 cars\",a)\n",
    "\n",
    "# exaxt 1 cars\n",
    "b=scipy.stats.poisson.pmf(1,1.8)\n",
    "print(\"probability for exaxt 1 cars\",b)\n",
    "\n",
    "# exaxt 2 cars\n",
    "c=scipy.stats.poisson.pmf(2,1.8)\n",
    "print(\"probability for exaxt 2 cars\",c)\n",
    "\n",
    "# exaxt 3 cars\n",
    "d=scipy.stats.poisson.pmf(3,1.8)\n",
    "print(\"probability for exaxt 3 cars\",d)\n",
    "\n",
    "# more than 3 car\n",
    "cdf=scipy.stats.poisson.cdf(3,1.8)\n",
    "e=1-cdf\n",
    "print(\"probability for more than 3 cars\",e)"
   ]
  },
  {
   "cell_type": "markdown",
   "metadata": {},
   "source": [
    "#### Example-3\n",
    "A fire station experiences an average call-out rate of 2.2 every period of three hours.\n",
    "Using the Poisson distribution, find the probability that in any period of 3 hours there will be<br>\n",
    "(i) no callouts, (ii) 1 callout, (iii) 2 callouts, (iv) 3 callouts,\n",
    "(v) 4 callouts, (v) more than 4 callouts"
   ]
  },
  {
   "cell_type": "code",
   "execution_count": 68,
   "metadata": {},
   "outputs": [
    {
     "name": "stdout",
     "output_type": "stream",
     "text": [
      "probability for more than 4 callouts 0.07249630885779967\n"
     ]
    }
   ],
   "source": [
    "# (i) no callouts\n",
    "scipy.stats.poisson.pmf(0,2.2)\n",
    "\n",
    "# (v) more than 4 callouts\n",
    "# P(X>4)=1-cdf(4)=1-P(X<=4)\n",
    "cdf=scipy.stats.poisson.cdf(4,2.2)\n",
    "p=1-cdf\n",
    "print(\"probability for more than 4 callouts\",p)"
   ]
  },
  {
   "cell_type": "markdown",
   "metadata": {},
   "source": [
    "#### Example-4\n",
    "The number of radioactive particles emitted in a minute from a meteorite is recorded on a\n",
    "Geiger counter. The mean number is found to be 3.5 per minute. Using the Poisson\n",
    "distribution, find the probability that in any one minute there are<br>\n",
    "(i) no particles,\n",
    "(ii) 2 particles,\n",
    "(iii) at least 5 particles."
   ]
  },
  {
   "cell_type": "code",
   "execution_count": 69,
   "metadata": {},
   "outputs": [
    {
     "data": {
      "text/plain": [
       "0.27455504669039565"
      ]
     },
     "execution_count": 69,
     "metadata": {},
     "output_type": "execute_result"
    }
   ],
   "source": [
    "# (iii) at least 5 particles.\n",
    "# P(X>=5)=1-cdf(5)=1-P(X<=4)\n",
    "cdf=scipy.stats.poisson.cdf(4,3.5)\n",
    "1-cdf"
   ]
  },
  {
   "cell_type": "code",
   "execution_count": 70,
   "metadata": {},
   "outputs": [
    {
     "data": {
      "text/plain": [
       "0.950212931632136"
      ]
     },
     "execution_count": 70,
     "metadata": {},
     "output_type": "execute_result"
    }
   ],
   "source": [
    "# at least one\n",
    "# P(X>=1)=1-cdf(1)=1-P(X=0)\n",
    "cdf=scipy.stats.poisson.cdf(0,3)\n",
    "1-cdf"
   ]
  },
  {
   "cell_type": "markdown",
   "metadata": {},
   "source": [
    "<center><h1>Continuous probability Distribution</h1></center>"
   ]
  },
  {
   "cell_type": "code",
   "execution_count": 71,
   "metadata": {},
   "outputs": [],
   "source": [
    "from scipy import stats\n",
    "import matplotlib.pyplot as plt\n",
    "import numpy as np\n",
    "import scipy"
   ]
  },
  {
   "cell_type": "code",
   "execution_count": 72,
   "metadata": {},
   "outputs": [
    {
     "data": {
      "text/plain": [
       "0.03520653267642995"
      ]
     },
     "execution_count": 72,
     "metadata": {},
     "output_type": "execute_result"
    }
   ],
   "source": [
    "#probability density function\n",
    "scipy.stats.norm(50,10).pdf(45)"
   ]
  },
  {
   "cell_type": "code",
   "execution_count": 73,
   "metadata": {},
   "outputs": [
    {
     "data": {
      "text/plain": [
       "0.532807207342556"
      ]
     },
     "execution_count": 73,
     "metadata": {},
     "output_type": "execute_result"
    }
   ],
   "source": [
    "# Calculating Normal Probabilities\n",
    "# P(45 < X < 60)?\n",
    "# cumulative density function\n",
    "# CDF gives the probability that the variate has a value less than or equal to the given value.\n",
    "scipy.stats.norm(50,10).cdf(45) #= P(X <= 45) ~N(50, 10)\n",
    "scipy.stats.norm(50,10).cdf(60) - scipy.stats.norm(50,10).cdf(45)"
   ]
  },
  {
   "cell_type": "markdown",
   "metadata": {},
   "source": [
    "Using the Normal Table\n",
    "What is P(Z > 1.6) ?"
   ]
  },
  {
   "cell_type": "code",
   "execution_count": 74,
   "metadata": {},
   "outputs": [
    {
     "data": {
      "text/plain": [
       "0.054799291699557995"
      ]
     },
     "execution_count": 74,
     "metadata": {},
     "output_type": "execute_result"
    }
   ],
   "source": [
    "#= P(X <= 45) ~N(50, 10)\n",
    "a=scipy.stats.norm(0,1).cdf(0) \n",
    "b=scipy.stats.norm(0,1).cdf(1.6)\n",
    "# P(Z > 1.6) = .5 – P(0 < Z < 1.6)\n",
    "1-b"
   ]
  },
  {
   "cell_type": "markdown",
   "metadata": {},
   "source": [
    "What is P(Z < -2.23) ?"
   ]
  },
  {
   "cell_type": "code",
   "execution_count": 75,
   "metadata": {},
   "outputs": [
    {
     "data": {
      "text/plain": [
       "0.012873721438602014"
      ]
     },
     "execution_count": 75,
     "metadata": {},
     "output_type": "execute_result"
    }
   ],
   "source": [
    "# find total using simple form\n",
    "scipy.stats.norm(0,1).cdf(-2.23)"
   ]
  },
  {
   "cell_type": "markdown",
   "metadata": {},
   "source": [
    "What is P(Z < 1.52) ?"
   ]
  },
  {
   "cell_type": "code",
   "execution_count": 76,
   "metadata": {},
   "outputs": [
    {
     "data": {
      "text/plain": [
       "0.9357445121810641"
      ]
     },
     "execution_count": 76,
     "metadata": {},
     "output_type": "execute_result"
    }
   ],
   "source": [
    "# find total using simple form\n",
    "scipy.stats.norm(0,1).cdf(1.52)"
   ]
  },
  {
   "cell_type": "code",
   "execution_count": 77,
   "metadata": {},
   "outputs": [
    {
     "name": "stdout",
     "output_type": "stream",
     "text": [
      "0.9712834401839981\n",
      "0.8159398746532405\n",
      "0.15534356553075768\n"
     ]
    }
   ],
   "source": [
    "# What is P(0.9 < Z < 1.9) ?\n",
    "A=scipy.stats.norm(0,1).cdf(1.9)\n",
    "B=scipy.stats.norm(0,1).cdf(0.9)\n",
    "print(A)\n",
    "print(B)\n",
    "c=A-B\n",
    "print(c)"
   ]
  },
  {
   "cell_type": "markdown",
   "metadata": {},
   "source": [
    "PLot graph using Matplotlib and show the Normal Distribution"
   ]
  },
  {
   "cell_type": "code",
   "execution_count": 78,
   "metadata": {},
   "outputs": [
    {
     "data": {
      "text/plain": [
       "1.486719514734298e-07"
      ]
     },
     "execution_count": 78,
     "metadata": {},
     "output_type": "execute_result"
    },
    {
     "data": {
      "image/png": "[encoded data removed]",
      "text/plain": [
       "<Figure size 432x288 with 1 Axes>"
      ]
     },
     "metadata": {
      "needs_background": "light"
     },
     "output_type": "display_data"
    }
   ],
   "source": [
    "npdf = stats.norm(50,10)\n",
    "x = range(0,100)\n",
    "plt.plot(x, npdf.pdf(x), 'k-', lw=2)\n",
    "npdf.pdf(0)"
   ]
  },
  {
   "cell_type": "code",
   "execution_count": null,
   "metadata": {},
   "outputs": [],
   "source": []
  }
 ],
 "metadata": {
  "kernelspec": {
   "display_name": "Python 3",
   "language": "python",
   "name": "python3"
  },
  "language_info": {
   "codemirror_mode": {
    "name": "ipython",
    "version": 3
   },
   "file_extension": ".py",
   "mimetype": "text/x-python",
   "name": "python",
   "nbconvert_exporter": "python",
   "pygments_lexer": "ipython3",
   "version": "3.7.1"
  }
 },
 "nbformat": 4,
 "nbformat_minor": 2
}
