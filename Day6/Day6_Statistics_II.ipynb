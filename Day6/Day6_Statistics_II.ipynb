{
 "cells": [
  {
   "cell_type": "markdown",
   "metadata": {},
   "source": [
    "<center><h1>Statistic</h1></center>"
   ]
  },
  {
   "cell_type": "markdown",
   "metadata": {},
   "source": [
    "<img src=\"https://fiverr-res.cloudinary.com/images/t_main1,q_auto,f_auto/gigs/105100081/original/b508ab6dd88851cf41a84b367f661443a02aa202/provide-you-best-solution-about-stat-math-and-computer.jpg\"/>"
   ]
  },
  {
   "cell_type": "code",
   "execution_count": null,
   "metadata": {},
   "outputs": [],
   "source": []
  },
  {
   "cell_type": "markdown",
   "metadata": {},
   "source": [
    "## Central Limit Theorem\n",
    "\n",
    "## Point Estimate"
   ]
  },
  {
   "cell_type": "markdown",
   "metadata": {},
   "source": [
    "<center><h1>Confidence Interval</h1></center>"
   ]
  },
  {
   "cell_type": "markdown",
   "metadata": {},
   "source": [
    "### Case- 1:- Variance is known"
   ]
  },
  {
   "cell_type": "markdown",
   "metadata": {},
   "source": [
    "### Example:-\n",
    "A sample of 11 circuits from a normal population has a mean resistance of 2.20 ohms.  We know from past testing that the population standard deviation is 0.35 ohms.  Determine a 95% confidence interval for the true mean resistance of the population.\n"
   ]
  },
  {
   "cell_type": "markdown",
   "metadata": {},
   "source": [
    "Solution:-these example is under known variance.\n",
    "<img src=\"http://knowledgehills.com/content/images/Six-Sigma/Six-Sigma-Z-Confidence-Interval-Means-Formula1.gif\"/>\n"
   ]
  },
  {
   "cell_type": "markdown",
   "metadata": {},
   "source": [
    "<img src=\"https://www.statisticshowto.datasciencecentral.com/wp-content/uploads/2014/12/ci95.png\"/>"
   ]
  },
  {
   "cell_type": "code",
   "execution_count": 79,
   "metadata": {},
   "outputs": [
    {
     "name": "stdout",
     "output_type": "stream",
     "text": [
      "Confidence Interval:- (1.9931670182940682, 2.406832981705932)\n"
     ]
    }
   ],
   "source": [
    "#Mean Interval Estimation using Normal Distribution\n",
    "import math\n",
    "size_of_sample=11\n",
    "standard_deviation=0.35\n",
    "poe=2.20\n",
    "standard_error=standard_deviation/math.sqrt(size_of_sample)\n",
    "critical_value=scipy.stats.norm.ppf(0.025)\n",
    "moe=critical_value*standard_error\n",
    "CI=(poe+moe,poe-moe)\n",
    "print(\"Confidence Interval:-\",CI)\n",
    "\n"
   ]
  },
  {
   "cell_type": "code",
   "execution_count": 80,
   "metadata": {},
   "outputs": [
    {
     "name": "stdout",
     "output_type": "stream",
     "text": [
      "Confidence Interval:- (25.877157979701813, 33.12284202029819)\n",
      "lower: 25.87715797970181 \n",
      "Upper: 33.12284202029819\n"
     ]
    }
   ],
   "source": [
    "#Mean Interval Estimation using Normal Distribution\n",
    "import statsmodels.stats.api as sms\n",
    "x = range(10,50)\n",
    "ci=scipy.stats.norm.interval(0.95, loc = np.mean(x), scale = scipy.stats.sem(x))\n",
    "lower, upper = sms.DescrStatsW(x).zconfint_mean(alpha = 0.05)\n",
    "print(\"Confidence Interval:-\",ci)\n",
    "print(\"lower:\",lower,\"\\nUpper:\",upper)"
   ]
  },
  {
   "cell_type": "markdown",
   "metadata": {},
   "source": [
    "### Case- 2:- Variance is Unknown"
   ]
  },
  {
   "cell_type": "markdown",
   "metadata": {},
   "source": [
    "<img src=\"http://www.six-sigma-material.com/images/CIMeanExampleCalculation.JPG\"/>"
   ]
  },
  {
   "cell_type": "code",
   "execution_count": 81,
   "metadata": {},
   "outputs": [
    {
     "name": "stdout",
     "output_type": "stream",
     "text": [
      "lower: 25.761212100370575 \n",
      "Upper: 33.23878789962942\n"
     ]
    }
   ],
   "source": [
    "\n",
    "#Mean Interval Estimation using t dist\n",
    "# add most useful things degree of freedome=n-1\n",
    "import numpy as np\n",
    "import scipy.stats\n",
    "import statsmodels.stats.api as sms\n",
    "x = range(10,50)\n",
    "scipy.stats.t.interval(0.95, len(x) - 1, loc = np.mean(x), scale = scipy.stats.sem(x))\n",
    "Lower, Upper = sms.DescrStatsW(x).tconfint_mean(alpha = 0.05)\n",
    "print(\"lower:\",Lower,\"\\nUpper:\",Upper)"
   ]
  },
  {
   "cell_type": "markdown",
   "metadata": {},
   "source": [
    "<center><h1>Hypothesis Testing</h1></center>"
   ]
  },
  {
   "cell_type": "markdown",
   "metadata": {},
   "source": [
    "A (statistical) hypothesis is a statement or claim about a population parameter (not\n",
    "about a sample statistic):<br>\n",
    "Ex) The mean electric bill per household of this city is μ = $132.\n",
    "The Mean weight of chocolate bars manufactured in a factory is 3 ounces."
   ]
  },
  {
   "cell_type": "markdown",
   "metadata": {},
   "source": [
    "#### Hypothesis testing\n",
    "    A procedure leading to a decision about a hypothesis based on a random sample"
   ]
  },
  {
   "cell_type": "markdown",
   "metadata": {},
   "source": [
    "#### Null  Hypothesis  \n",
    "(H0)  states the assumption to be tested.\tA hypothesis testing begins  with the assumption that H0 is true"
   ]
  },
  {
   "cell_type": "markdown",
   "metadata": {},
   "source": [
    "#### Alternative Hypothesis \n",
    "(H1) is the opposite of the null hypothesis. It is the hypothesis  that the researcher is trying to prove.\n",
    "\n",
    "Two-sided Alternative Hypothesis\n"
   ]
  },
  {
   "cell_type": "markdown",
   "metadata": {},
   "source": [
    "### Case- 1`:- Variance is known(Using Z -Distribution)"
   ]
  },
  {
   "cell_type": "markdown",
   "metadata": {},
   "source": [
    "### Example (using Critical value & P-value)\n",
    "To test the claim that the mean weight of chocolate bars manufactured in a  factory is 3 ounces, we weighed 100 chocolate bars and the average weight was 2.84.  Suppose that, from past records, the standard deviation is known to be 0.8.\n"
   ]
  },
  {
   "cell_type": "markdown",
   "metadata": {},
   "source": [
    "### 1.State the null and alternative hypotheses\n",
    "H0: μ = 3\tH1: μ ≠ 3\t(two-sided test)\n"
   ]
  },
  {
   "cell_type": "markdown",
   "metadata": {},
   "source": [
    "### 2.Choose the desired level of significance\n",
    "Suppose that  =0 .05 is chosen for this test\n"
   ]
  },
  {
   "cell_type": "markdown",
   "metadata": {},
   "source": [
    "### 3.Determine the test statistic\n",
    "σ is known so this is a Z-test\n",
    "<img src=\"https://image.slidesharecdn.com/z-test-170412150226/95/ztest-with-examples-4-638.jpg?cb=1546230216\"/>"
   ]
  },
  {
   "cell_type": "code",
   "execution_count": 83,
   "metadata": {},
   "outputs": [
    {
     "name": "stdout",
     "output_type": "stream",
     "text": [
      "Test_STatistic -2.0000000000000018\n"
     ]
    }
   ],
   "source": [
    "Z = (2.84 - 3) / (0.8/math.sqrt(100))\n",
    "print(\"Test_STatistic\",Z)"
   ]
  },
  {
   "cell_type": "markdown",
   "metadata": {},
   "source": [
    "### 4.Find the critical values and determine the rejection region(s)\n",
    "For  = 0.05 , the critical alpha/2=0.25"
   ]
  },
  {
   "cell_type": "code",
   "execution_count": 84,
   "metadata": {},
   "outputs": [
    {
     "data": {
      "text/plain": [
       "1.959963984540054"
      ]
     },
     "execution_count": 84,
     "metadata": {},
     "output_type": "execute_result"
    }
   ],
   "source": [
    "scipy.stats.norm.ppf(0.025)\n",
    "# or both will use only difference in -ve and +ve sign\n",
    "scipy.stats.norm.ppf(0.975)"
   ]
  },
  {
   "cell_type": "markdown",
   "metadata": {},
   "source": [
    "Reject H0 if z0 < -1.96 or z0 > 1.96"
   ]
  },
  {
   "cell_type": "markdown",
   "metadata": {},
   "source": [
    "### 5.Reach a decision and interpret the result\n",
    "Since z0 = -2.0 < -1.96, you reject the null hypothesis\n",
    "That is, there is sufficient evidence that the mean weight of chocolate bars is not equal to 3."
   ]
  },
  {
   "cell_type": "markdown",
   "metadata": {},
   "source": [
    "### Aproach-ii Using P-Value"
   ]
  },
  {
   "cell_type": "markdown",
   "metadata": {},
   "source": [
    "NOTE:- <br>\n",
    "P-Value > aplha----acept.<br>\n",
    "P-Value > alpha----reject."
   ]
  },
  {
   "cell_type": "code",
   "execution_count": 85,
   "metadata": {},
   "outputs": [
    {
     "name": "stdout",
     "output_type": "stream",
     "text": [
      "P value:- 0.04550026389635839\n"
     ]
    }
   ],
   "source": [
    "# p-value = 2P(Z > lz0l ) =2P(Z>2.0) because its 2 sided so multply by 2\n",
    "P_Value=2*scipy.stats.norm.cdf(-2.0)\n",
    "print(\"P value:-\",P_Value)"
   ]
  },
  {
   "cell_type": "code",
   "execution_count": 86,
   "metadata": {},
   "outputs": [
    {
     "name": "stdout",
     "output_type": "stream",
     "text": [
      "Thus, we reject the null hypothesis\n",
      "That is, there is sufficient evidence that the mean weight of chocolate bars is not equal to 3\n"
     ]
    }
   ],
   "source": [
    "# now compare with alpha and P value\n",
    "# P-Value > aplha----acept.\n",
    "# P-Value > alpha----reject.\n",
    "alpha=0.05\n",
    "P_Value=0.04550026389635839\n",
    "if(P_Value < alpha):\n",
    "    print(\"Thus, we reject the null hypothesis\\nThat is, there is sufficient evidence that the mean weight of chocolate bars is not equal to 3\")\n",
    "else:\n",
    "    print(\"Accept Null hypothesis\")"
   ]
  },
  {
   "cell_type": "markdown",
   "metadata": {},
   "source": [
    "### Case- 2`:- Variance is Unknown(Used T-Distribution)"
   ]
  },
  {
   "cell_type": "markdown",
   "metadata": {},
   "source": [
    "### Example \n",
    "The mean cost of a hotel room in LA is said to be $168 per night. A random  sample of 25 hotels resulted in X = 172.50 and S = 15.40. Test at the = 0.05 level  Assuming the data are normally distributed.\n"
   ]
  },
  {
   "cell_type": "markdown",
   "metadata": {},
   "source": [
    "### 1.State the null and alternative hypotheses\n",
    "H0: μ = 168\tH1: μ != 168\n"
   ]
  },
  {
   "cell_type": "markdown",
   "metadata": {},
   "source": [
    "### 2.Choose the desired level of significance\n",
    "Suppose that  =0 .05 is chosen for this test\n"
   ]
  },
  {
   "cell_type": "markdown",
   "metadata": {},
   "source": [
    "### 3.Determine the test statistic\n",
    "σ is Unknown so this is a T-test\n",
    "<img src=\"https://image1.slideserve.com/1517587/the-formula-for-the-test-statistic-with-n.jpg\"/>"
   ]
  },
  {
   "cell_type": "code",
   "execution_count": 87,
   "metadata": {},
   "outputs": [
    {
     "name": "stdout",
     "output_type": "stream",
     "text": [
      "T Statistic 1.461038961038961\n"
     ]
    }
   ],
   "source": [
    "import math\n",
    "Mu=168\n",
    "n=25\n",
    "s=15.04\n",
    "alpha=0.05\n",
    "xbar=172.50\n",
    "\n",
    "T=(172.50-168)/((15.40)/math.sqrt(25))\n",
    "print(\"T Statistic\",T)"
   ]
  },
  {
   "cell_type": "markdown",
   "metadata": {},
   "source": [
    "### 4.Find the critical values and determine the rejection region(s)\n",
    "For  = 0.05 , the critical alpha/2=0.25"
   ]
  },
  {
   "cell_type": "code",
   "execution_count": 88,
   "metadata": {},
   "outputs": [
    {
     "name": "stdout",
     "output_type": "stream",
     "text": [
      "Critical Value:- 2.0638985616280205\n"
     ]
    }
   ],
   "source": [
    "# degree of freedome=n-1\n",
    "dof=25-1\n",
    "alpha=0.05 \n",
    "al=0.05/2   # because its two sided\n",
    "# scipy.stats.t.ppf(alpha,degree of freedom)\n",
    "critical_Value=stats.t.ppf(0.975,dof)\n",
    "print(\"Critical Value:-\",critical_Value)"
   ]
  },
  {
   "cell_type": "markdown",
   "metadata": {},
   "source": [
    "Critical Values: t0.025, 24 = ± 2.0639<br>\n",
    "Reject H0 if\tt0>2.0639 or t0<-2.0639\n"
   ]
  },
  {
   "cell_type": "markdown",
   "metadata": {},
   "source": [
    "### 5.Reach a decision and interpret the result\n",
    "Since t0= 1.4960106382978724 < 2.0638985616280205,<br> \n",
    "Since t0 does not fall in the rejection region, we cannot reject H0.<br>\n",
    "That is, there is sufficient evidence"
   ]
  },
  {
   "cell_type": "markdown",
   "metadata": {},
   "source": [
    "### Aproach-2 Using P-Value"
   ]
  },
  {
   "cell_type": "markdown",
   "metadata": {},
   "source": [
    "NOTE:- <br>\n",
    "P-Value > aplha----acept.<br>\n",
    "P-Value > alpha----reject."
   ]
  },
  {
   "cell_type": "code",
   "execution_count": 89,
   "metadata": {},
   "outputs": [
    {
     "name": "stdout",
     "output_type": "stream",
     "text": [
      "P-Values: 0.1569743731561739\n"
     ]
    }
   ],
   "source": [
    "P_V=1-stats.t.cdf(1.461038961038961,24)\n",
    "P_Value=P_V*2  # because its two sides\n",
    "print(\"P-Values:\",P_Value)"
   ]
  },
  {
   "cell_type": "code",
   "execution_count": 114,
   "metadata": {},
   "outputs": [
    {
     "name": "stdout",
     "output_type": "stream",
     "text": [
      "Thus, we Accept the null hypothesis.Because P-Value gratter than alpha\n",
      "That is, there is sufficient evidence.\n"
     ]
    }
   ],
   "source": [
    "# now compare with alpha and P value\n",
    "# P-Value > aplha----acept.\n",
    "# P-Value > alpha----reject.\n",
    "alpha=0.05\n",
    "P_Value=0.1569743731561739\n",
    "if(P_Value > alpha):\n",
    "    print(\"Thus, we Accept the null hypothesis.Because P-Value gratter than alpha\\nThat is, there is sufficient evidence.\")\n",
    "else:\n",
    "    print(\"Reject Null hypothesis\")"
   ]
  },
  {
   "cell_type": "markdown",
   "metadata": {},
   "source": [
    "<center><h2>CHi -Square</h2></center>\n"
   ]
  },
  {
   "cell_type": "markdown",
   "metadata": {},
   "source": [
    "Interference on the variance of a Normal Population.A standard normal deviate is a random sample from the standard normal distribution. The Chi Square distribution is the distribution of the sum of squared standard normal deviates. The degrees of freedom of the distribution is equal to the number of standard normal deviates being summed.<br>\n",
    "H0: s2 = s02<br>\n",
    "H1: s2 != s02<br>\n",
    "where s02  is a specified constant.<br>\n",
    "Sampling from a normal distribution with unknown mean m and unknown variance s2, the quantity\n",
    "\n"
   ]
  },
  {
   "cell_type": "markdown",
   "metadata": {},
   "source": [
    "<img src=\"https://www.empirical-methods.hslu.ch/files/2017/02/calculating-the-chi-square-test-statistic-for-variance.png\"/>"
   ]
  },
  {
   "cell_type": "markdown",
   "metadata": {},
   "source": [
    "#### Example:\n",
    " An automatic filling machine is used to fill bottles with liquid detergent.  A random sample of 20 bottles results in a sample variance of fill volume of s2 = 0.0153 (fluid ounces)2.  If the variance of fill volume exceeds 0.01 (fluid ounces)2, an unacceptable proportion of bottles will be underfilled and overfilled.  Is there evidence in the sample data to suggest that the manufacturer has a problem with underfilled and overfilled bottles?  Use a = 0.05, and assume that fill volume has a normal distribution."
   ]
  },
  {
   "cell_type": "markdown",
   "metadata": {},
   "source": [
    "### 1: parameter of interest----> population of Variance"
   ]
  },
  {
   "cell_type": "markdown",
   "metadata": {},
   "source": [
    "### 2.State the null and alternative hypotheses\n",
    "H0:s2=0.01<br>\n",
    "H1:s2>0.01 \n",
    "Note:- this is the one sided."
   ]
  },
  {
   "cell_type": "markdown",
   "metadata": {},
   "source": [
    "### 3.Determine the test statistic\n",
    "σ is Unknown so this is a T-test\n",
    "<img src=\"https://www.empirical-methods.hslu.ch/files/2017/02/calculating-the-chi-square-test-statistic-for-variance.png\"/>"
   ]
  },
  {
   "cell_type": "code",
   "execution_count": 111,
   "metadata": {},
   "outputs": [
    {
     "name": "stdout",
     "output_type": "stream",
     "text": [
      "Test statistic: 29.07\n"
     ]
    }
   ],
   "source": [
    "alpha=0.05\n",
    "n=20\n",
    "sample=0.0153\n",
    "sigma=0.01\n",
    "x2=(19*sample)/sigma\n",
    "print(\"Test statistic:\",x2)"
   ]
  },
  {
   "cell_type": "markdown",
   "metadata": {},
   "source": [
    "### 4.Find the critical values and determine the rejection region(s)\n",
    "For  = 0.05"
   ]
  },
  {
   "cell_type": "code",
   "execution_count": 110,
   "metadata": {},
   "outputs": [
    {
     "data": {
      "text/plain": [
       "30.14352720564616"
      ]
     },
     "execution_count": 110,
     "metadata": {},
     "output_type": "execute_result"
    }
   ],
   "source": [
    "# in calculation of critical value in chi sqaure his taking two parameter.\n",
    "# scipy.stats.chi2.ppf(test statistics,degree of freedome)\n",
    "scipy.stats.chi2.ppf(0.95,19)"
   ]
  },
  {
   "cell_type": "markdown",
   "metadata": {},
   "source": [
    "### 5.Reach a decision and interpret the result\n",
    "Because x2=29.07<x2(0.0153)=30.14<br> \n",
    "Accept the Null Hypothesis(H0)\n",
    "Since t0 does not fall in the rejection region, we cannot reject H0.<br>\n",
    "That is, there is sufficient evidence"
   ]
  },
  {
   "cell_type": "markdown",
   "metadata": {},
   "source": [
    "### Aproach-2 Using P-Value"
   ]
  },
  {
   "cell_type": "markdown",
   "metadata": {},
   "source": [
    "NOTE:- <br>\n",
    "P-Value > aplha----acept.<br>\n",
    "P-Value > alpha----reject."
   ]
  },
  {
   "cell_type": "code",
   "execution_count": 115,
   "metadata": {},
   "outputs": [
    {
     "name": "stdout",
     "output_type": "stream",
     "text": [
      "P_Value: 0.9351079950606133\n"
     ]
    }
   ],
   "source": [
    "P_Value=scipy.stats.chi2.cdf(29.07,19)\n",
    "print(\"P_Value:\",P_Value)"
   ]
  },
  {
   "cell_type": "code",
   "execution_count": 116,
   "metadata": {},
   "outputs": [
    {
     "name": "stdout",
     "output_type": "stream",
     "text": [
      "Thus, we Accept the null hypothesis.Because P-Value gratter than alpha\n",
      "That is, there is sufficient evidence.\n"
     ]
    }
   ],
   "source": [
    "# now compare with alpha and P value\n",
    "# P-Value > aplha----acept.\n",
    "# P-Value > alpha----reject.\n",
    "alpha=0.05\n",
    "P_Value=0.9351079950606133\n",
    "if(P_Value > alpha):\n",
    "    print(\"Thus, we Accept the null hypothesis.Because P-Value gratter than alpha\\nThat is, there is sufficient evidence.\")\n",
    "else:\n",
    "    print(\"Reject Null hypothesis\")"
   ]
  },
  {
   "cell_type": "markdown",
   "metadata": {},
   "source": [
    "<center><h1>Hypothesis Testing On Two Population</h1></center>"
   ]
  },
  {
   "cell_type": "markdown",
   "metadata": {},
   "source": [
    "#### Example:\n",
    "A high school math teacher claims that students in her class will score higher on the math portion of the ACT then students in a colleague's math class. The mean ACT math score for 49 students in her class is 22.1 and the standard deviation is 4.8. The mean ACT math score for 44 of the colleague's students is 19.8 and the standard deviation is t 5.4. At alpha = 0.10, can the teacher's claim be supported? Conduct the 5 steps hypothesis test and state your conclusion As an aid in the establishment of personnel requirements, the director of a hospital wishes to estimate the mean number of people who are admitted to the emergency room during a 24-hour period. The director randomly selects 24 different 24-hour periods and determines the number of admissions for each. For this sample, the mean is 19.8. The standard deviation is known to be 5. Find a 95% confidence interval for estimating the mean number of admissions per 24-hour period. Assume that systolic blood pressure (SBP) for healthy adults is normally distributed with a mean of 120 mm Hg and standard deviation of 20 mm Hg. What sample size is needed so that 95% of sample means are between 116 mmHg and 124 mmHg?<br>\n",
    "x1bar=22.1  ,alpha=0.10<br>\n",
    "x2bar=19.08 ,<br>\n",
    "n1=49  ,s1=4.8  ,<br>\n",
    "n2=44  ,s2=5.4  ,"
   ]
  },
  {
   "cell_type": "markdown",
   "metadata": {},
   "source": [
    "### 1.State the null and alternative hypotheses\n",
    "H0:Mu1<=mu2<br>\n",
    "H1:mu1>mu2 <br>\n",
    "Note:- this is the one sided.<br>\n",
    "NOTE:- in this case we assuming that mu1<=mu1  so mu1-mu2=0"
   ]
  },
  {
   "cell_type": "markdown",
   "metadata": {},
   "source": [
    "### 3.Determine the Standard Error\n",
    "<img src=\"https://i.stack.imgur.com/W5GDJ.png\"/>"
   ]
  },
  {
   "cell_type": "code",
   "execution_count": 121,
   "metadata": {},
   "outputs": [
    {
     "name": "stdout",
     "output_type": "stream",
     "text": [
      "Standard Error 1.0643924813525911\n"
     ]
    }
   ],
   "source": [
    "SE=math.sqrt((4.8)**2/49+(5.4)**2/44)\n",
    "print(\"Standard Error\",SE)"
   ]
  },
  {
   "cell_type": "markdown",
   "metadata": {},
   "source": [
    "### 3.Determine the test statistic\n",
    "σ is known so this is a Z-test\n",
    "<img src=\"http://www.stat.yale.edu/Courses/1997-98/101/zstat2.gif\"/>"
   ]
  },
  {
   "cell_type": "code",
   "execution_count": 124,
   "metadata": {},
   "outputs": [
    {
     "name": "stdout",
     "output_type": "stream",
     "text": [
      "The Standardized Test Statistic: 2.1608570525387822\n"
     ]
    }
   ],
   "source": [
    "Z=((22.1-19.8)-0)/SE\n",
    "print(\"The Standardized Test Statistic:\",Z)"
   ]
  },
  {
   "cell_type": "markdown",
   "metadata": {},
   "source": [
    "### 4.Find the critical values and determine the rejection region(s)\n",
    "For  = 0.10"
   ]
  },
  {
   "cell_type": "code",
   "execution_count": 126,
   "metadata": {},
   "outputs": [
    {
     "name": "stdout",
     "output_type": "stream",
     "text": [
      "Critical Value 1.2815515655446004\n"
     ]
    }
   ],
   "source": [
    "Critical_Value=scipy.stats.norm.ppf(0.90)\n",
    "print(\"Critical Value\",Critical_Value)"
   ]
  },
  {
   "cell_type": "markdown",
   "metadata": {},
   "source": [
    "### 5.Reach a decision and interpret the result\n",
    "The critical value =1.28 and Z0=2.162 so zo in rejection region<br>\n",
    "Reject the Null Hypothesis(H0) and  Alternative Hypothesis<br>\n",
    "Since Z0 does fall in the rejection region, we cannot accept Null Hypothesis(H0).<br>\n",
    "That is, there is sufficient evidence"
   ]
  },
  {
   "cell_type": "code",
   "execution_count": null,
   "metadata": {},
   "outputs": [],
   "source": []
  }
 ],
 "metadata": {
  "kernelspec": {
   "display_name": "Python 3",
   "language": "python",
   "name": "python3"
  },
  "language_info": {
   "codemirror_mode": {
    "name": "ipython",
    "version": 3
   },
   "file_extension": ".py",
   "mimetype": "text/x-python",
   "name": "python",
   "nbconvert_exporter": "python",
   "pygments_lexer": "ipython3",
   "version": "3.7.1"
  }
 },
 "nbformat": 4,
 "nbformat_minor": 2
}
